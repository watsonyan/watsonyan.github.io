{
 "cells": [
  {
   "cell_type": "markdown",
   "metadata": {},
   "source": [
    "# MIT CS Course 6-3: Computer Science and Engineering\n",
    "### Old Curriculum\n",
    "![avatar](http://www.eecs.mit.edu/sites/default/files/6-3_0.png)\n",
    "\n",
    "* 6.01, [Introduction to Electrical Engineering and Computer Science I (Spring 2011)](https://ocw.mit.edu/courses/electrical-engineering-and-computer-science/6-01sc-introduction-to-electrical-engineering-and-computer-science-i-spring-2011)\n",
    "* 6.02, [Introduction to EECS II: Digital Communication Systems (Fall 2012)](https://ocw.mit.edu/courses/electrical-engineering-and-computer-science/6-02-introduction-to-eecs-ii-digital-communication-systems-fall-2012)\n",
    "* 6.004 [Computation Structures (Spring 2009)](https://ocw.mit.edu/courses/electrical-engineering-and-computer-science/6-004-computation-structures-spring-2009)\n",
    "* 6.005 [Software Construction (Spring 2016)](https://ocw.mit.edu/courses/electrical-engineering-and-computer-science/6-005-software-construction-spring-2016)\n",
    "* 6.006 [Introduction to Algorithms (Fall 2011)](https://ocw.mit.edu/courses/electrical-engineering-and-computer-science/6-006-introduction-to-algorithms-fall-2011)\n",
    "* 6.033 [Computer System Engineering (Spring 2018)](https://ocw.mit.edu/courses/electrical-engineering-and-computer-science/6-033-computer-system-engineering-spring-2018) \n",
    "* 6.034,[Artificial Intelligence (Fall 2010)](https://ocw.mit.edu/courses/electrical-engineering-and-computer-science/6-034-artificial-intelligence-fall-2010) \n",
    "* 6.046J [Design and Analysis of Algorithms (Spring 2015)](https://ocw.mit.edu/courses/electrical-engineering-and-computer-science/6-046j-design-and-analysis-of-algorithms-spring-2015)\n",
    "\n",
    "### new Curriculum\n",
    "[Degree Requirements](http://www.eecs.mit.edu/curriculum2017)\n",
    "\n",
    "**Required Subjects**\n",
    "+ Intro: 1 subject one of the following\n",
    "   * 6.01, [Introduction to Electrical Engineering and Computer Science I (Spring 2011)](https://ocw.mit.edu/courses/electrical-engineering-and-computer-science/6-01sc-introduction-to-electrical-engineering-and-computer-science-i-spring-2011)\n",
    "   * 6.02, [Introduction to EECS II: Digital Communication Systems (Fall 2012)](https://ocw.mit.edu/courses/electrical-engineering-and-computer-science/6-02-introduction-to-eecs-ii-digital-communication-systems-fall-2012)\n",
    "   * 6.03,    \n",
    "   * 6.08 (formerly 6.S08)\n",
    "+ Programming skills: 1 subject , one of the following\n",
    "   * 6.0001, [Introduction to Computer Science and Programming in Python (Fall 2016)](https://ocw.mit.edu/courses/electrical-engineering-and-computer-science/6-0001-introduction-to-computer-science-and-programming-in-python-fall-2016)\n",
    "   * 6.145 (formerly 6.S080)  if taken before 6.01 or 6.08    \n",
    "+ Foundation: 3 subjects\n",
    "   * 6.004 [Computation Structures (Spring 2009)](https://ocw.mit.edu/courses/electrical-engineering-and-computer-science/6-004-computation-structures-spring-2009)\n",
    "   * 6.006 [Introduction to Algorithms (Fall 2011)](https://ocw.mit.edu/courses/electrical-engineering-and-computer-science/6-006-introduction-to-algorithms-fall-2011)\n",
    "   * 6.009 \n",
    "+ Header: 4 subjects\n",
    "   * 6.031\n",
    "   * 6.033 [Computer System Engineering (Spring 2018)](https://ocw.mit.edu/courses/electrical-engineering-and-computer-science/6-033-computer-system-engineering-spring-2018)\n",
    "   * One of \n",
    "      - 6.034,[Artificial Intelligence (Fall 2010)](https://ocw.mit.edu/courses/electrical-engineering-and-computer-science/6-034-artificial-intelligence-fall-2010) \n",
    "      - 6.036\n",
    "   * One of \n",
    "      - 6.045J, [Automata, Computability, and Complexity (Spring 2011)](https://ocw.mit.edu/courses/electrical-engineering-and-computer-science/6-045j-automata-computability-and-complexity-spring-2011)\n",
    "      - 6.046J [Design and Analysis of Algorithms (Spring 2015)](https://ocw.mit.edu/courses/electrical-engineering-and-computer-science/6-046j-design-and-analysis-of-algorithms-spring-2015)\n",
    "+ Two from AUS2 list\n",
    "+ One additional from EECS list\n",
    "+ One of 6.UAT, 6.UAR\n",
    "+ Math: 6.042J\n",
    "\n",
    "**Additional constraints**\n",
    "+ At least one of these subjects must be from II list"
   ]
  },
  {
   "cell_type": "code",
   "execution_count": null,
   "metadata": {},
   "outputs": [],
   "source": []
  }
 ],
 "metadata": {
  "kernelspec": {
   "display_name": "Python 3",
   "language": "python",
   "name": "python3"
  },
  "language_info": {
   "codemirror_mode": {
    "name": "ipython",
    "version": 3
   },
   "file_extension": ".py",
   "mimetype": "text/x-python",
   "name": "python",
   "nbconvert_exporter": "python",
   "pygments_lexer": "ipython3",
   "version": "3.5.6"
  }
 },
 "nbformat": 4,
 "nbformat_minor": 2
}
